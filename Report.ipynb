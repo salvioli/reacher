{
 "cells": [
  {
   "cell_type": "markdown",
   "metadata": {
    "collapsed": true
   },
   "source": [
    "# Reacher project work report"
   ]
  },
  {
   "cell_type": "markdown",
   "metadata": {},
   "source": [
    "This notebook provides a walkthrough of the work done for the reacher project. "
   ]
  },
  {
   "cell_type": "code",
   "execution_count": 1,
   "metadata": {},
   "outputs": [],
   "source": [
    "!python -m pip install unityagents\n",
    "!python -m pip install torch\n",
    "!python -m pip install numpy\n",
    "!python -m pip install matplotlib\n",
    "!python -m pip install 'prompt-toolkit==1.0.15'"
   ]
  },
  {
   "cell_type": "code",
   "execution_count": 10,
   "metadata": {},
   "outputs": [
    {
     "name": "stdout",
     "output_type": "stream",
     "text": [
      "The autoreload extension is already loaded. To reload it, use:\n",
      "  %reload_ext autoreload\n"
     ]
    }
   ],
   "source": [
    "from unityagents import UnityEnvironment\n",
    "import numpy as np\n",
    "from ddpg_agent import DDPGAgent\n",
    "from reacher import *\n",
    "%matplotlib inline\n",
    "import matplotlib.pyplot as plt\n",
    "\n",
    "# reload automatically imported modules when they are modified\n",
    "# this allows to avoid kernel restarting every time we\n",
    "# change the dependencies of this notebook\n",
    "%load_ext autoreload\n",
    "%autoreload 2"
   ]
  },
  {
   "cell_type": "markdown",
   "metadata": {},
   "source": [
    "Next, we will start the environment!  **_Before running the code cell below_**, change the `file_name` parameter to match the location of the Unity environment that you downloaded.\n",
    "\n",
    "- **Mac**: `\"path/to/Reacher.app\"`\n",
    "- **Windows** (x86): `\"path/to/Reacher_Windows_x86/Reacher.exe\"`\n",
    "- **Windows** (x86_64): `\"path/to/Reacher_Windows_x86_64/Reacher.exe\"`\n",
    "- **Linux** (x86): `\"path/to/Reacher_Linux/Reacher.x86\"`\n",
    "- **Linux** (x86_64): `\"path/to/Reacher_Linux/Reacher.x86_64\"`\n",
    "- **Linux** (x86, headless): `\"path/to/Reacher_Linux_NoVis/Reacher.x86\"`\n",
    "- **Linux** (x86_64, headless): `\"path/to/Reacher_Linux_NoVis/Reacher.x86_64\"`\n",
    "\n",
    "For instance, if you are using a Mac, then you downloaded `Reacher.app`.  If this file is in the same folder as the notebook, then the line below should appear as follows:\n",
    "```\n",
    "env = UnityEnvironment(file_name=\"Reacher.app\")\n",
    "```"
   ]
  },
  {
   "cell_type": "code",
   "execution_count": 3,
   "metadata": {},
   "outputs": [
    {
     "name": "stderr",
     "output_type": "stream",
     "text": [
      "INFO:unityagents:\n",
      "'Academy' started successfully!\n",
      "Unity Academy name: Academy\n",
      "        Number of Brains: 1\n",
      "        Number of External Brains : 1\n",
      "        Lesson number : 0\n",
      "        Reset Parameters :\n",
      "\t\tgoal_speed -> 1.0\n",
      "\t\tgoal_size -> 5.0\n",
      "Unity brain name: ReacherBrain\n",
      "        Number of Visual Observations (per agent): 0\n",
      "        Vector Observation space type: continuous\n",
      "        Vector Observation space size (per agent): 33\n",
      "        Number of stacked Vector Observation: 1\n",
      "        Vector Action space type: continuous\n",
      "        Vector Action space size (per agent): 4\n",
      "        Vector Action descriptions: , , , \n"
     ]
    }
   ],
   "source": [
    "env = UnityEnvironment(file_name='../resources/Reacher_Linux/Reacher.x86_64', worker_id=1)"
   ]
  },
  {
   "cell_type": "markdown",
   "metadata": {},
   "source": [
    "Environments contain **_brains_** which are responsible for deciding the actions of their associated agents. Here we check for the first brain available, and set it as the default brain we will be controlling from Python."
   ]
  },
  {
   "cell_type": "code",
   "execution_count": 4,
   "metadata": {},
   "outputs": [],
   "source": [
    "# get the default brain and other environment data\n",
    "brain_name = env.brain_names[0]\n",
    "brain = env.brains[brain_name]\n",
    "# reset environment and get task information\n",
    "env_info = env.reset(train_mode=True)[brain_name]\n",
    "num_agents = len(env_info.agents)\n",
    "action_size = brain.vector_action_space_size\n",
    "states = env_info.vector_observations\n",
    "state_size = states.shape[1]"
   ]
  },
  {
   "cell_type": "markdown",
   "metadata": {},
   "source": [
    "## DDPG\n",
    "I tried to solve this task implementing a DDPG agent. The algorigthm includes the following variations with respect to the original proposed version in the paper:\n",
    "1. Gradient norm clipping: the algorithm includes a norm clipping to the update of the critic local network during training\n",
    "1. Exploration noise damping: the OU process providing exploratory noise is decreased proportionally to the difference between the obtained score and a score of 40 (higher than 30 to maintain a certain degree of exploration)\n",
    "\n",
    "### Hyperparameters\n",
    "The hyperparameters meaning are described in the constructor of the DDPGAgent:\n",
    "```python\n",
    "\"\"\"\n",
    "Initialization of the Agent\n",
    "state_size         (int):   dimension of each state\n",
    "action_size        (int):   dimension of each action\n",
    "random_seed        (int):   random seed\n",
    "buffer_size        (int):   number of samples that the replay buffer can store\n",
    "batch_size         (int):   number of samples used for learning for each learning step\n",
    "gamma            (float):   reward discount factor of the MDP problem\n",
    "tau              (float):   soft update factor, between 0 and 1, varies how fast the target network are updated\n",
    "lr_actor         (float):   learning rate for the actor\n",
    "lr_critic        (float):   learning rate for the critic\n",
    "weight_decay     (float):   weight decay regularization factor\n",
    "sigma            (float):   OU noise process randomness weight\n",
    "actor_nn_size  [int,int]:   2 dim array defining the number of units in the actor NN for the two fc layers\n",
    "critic_nn_size [int,int]:   2 dim array defining the number of units in the critic NN for the two fc layers\n",
    "batch_norm        (bool):   flag to control the use of batch normalization\n",
    "clip_grad_norm    (bool):   flag to control the use of critic backprop updated gradient clipping\n",
    "\"\"\"\n",
    "\n",
    "```\n",
    "Values of the hyperparameters chosen are all explicitly passed to the DDPGAgent constructor.\n",
    "\n",
    "### Neural networks architectures\n",
    "To solve the task 4 neural networks were used. 2 identical networks were used to implement the local and target neural network for the actor and other 2 for the critic. All units used are rectified linear units except for the output units of the actor and the critic.\n",
    "- The *actor* neural network is made of 2 fully connected hidden layers and has a tanh output to limit the actions values to the [-1,1] range as per task definition. When activated the inputs of the 2 fully connected layers are fed to a batch normalization layer. Network hidden layers both have 128 units.\n",
    "\n",
    "state \\[-> batch_norm\\] -> fc(128) \\[-> batch_norm\\] -> fc(128) -> fc with tanh units (4) -> actions\n",
    "\n",
    "- The *critic* is made of 2 fully connected hidden layers and, as proposed in the ddpg paper the action vector is fed in the second layer.\n",
    "\n",
    "state \\[-> batch_norm\\] -> fc(128) + actions -> fc(128) -> fc with linear units (1) -> value"
   ]
  },
  {
   "cell_type": "code",
   "execution_count": 6,
   "metadata": {},
   "outputs": [
    {
     "name": "stdout",
     "output_type": "stream",
     "text": [
      "Episode 50\tAverage Score: 1.24\n",
      "Episode 100\tAverage Score: 2.31\n",
      "Episode 150\tAverage Score: 6.31\n",
      "Episode 200\tAverage Score: 12.40\n",
      "Episode 250\tAverage Score: 21.40\n",
      "Episode 300\tAverage Score: 28.48\n",
      "Episode 314\tAverage Score: 29.99\n",
      "Task solved in 315 episodes\tAverage Score: 30.03\n",
      "Episode 350\tAverage Score: 30.33\n",
      "Episode 400\tAverage Score: 29.42\n",
      "Episode 450\tAverage Score: 28.52\n",
      "Episode 499\tAverage Score: 28.32\n",
      "CPU times: user 4h 56min 9s, sys: 3min 58s, total: 5h 7s\n",
      "Wall time: 2h 41min 26s\n"
     ]
    }
   ],
   "source": [
    "%%time\n",
    "agent = DDPGAgent(state_size, action_size, random_seed=42,\n",
    "                  buffer_size    = int(1e5),\n",
    "                  batch_size     = 128,\n",
    "                  gamma          = 0.99,\n",
    "                  tau            = 1e-3,\n",
    "                  lr_actor       = 1e-4,\n",
    "                  lr_critic      = 1e-4,\n",
    "                  weight_decay   = 0,\n",
    "                  sigma          = 0.1,\n",
    "                  actor_nn_size  = [128, 128],\n",
    "                  critic_nn_size = [128, 128],\n",
    "                  batch_norm     = False,\n",
    "                  clip_grad_norm = True)\n",
    "\n",
    "scores, avg_scores, std = train(agent, env,\n",
    "                                n_episodes             = 500,\n",
    "                                score_window_size      = 100,\n",
    "                                print_every            = 50,\n",
    "                                max_score              = 30,\n",
    "                                damp_exploration_noise = True)"
   ]
  },
  {
   "cell_type": "code",
   "execution_count": 7,
   "metadata": {},
   "outputs": [
    {
     "data": {
      "image/png": "[encoded data removed]",
      "text/plain": [
       "<Figure size 432x288 with 1 Axes>"
      ]
     },
     "metadata": {
      "needs_background": "light"
     },
     "output_type": "display_data"
    }
   ],
   "source": [
    "plot_scores(scores, avg_scores, std)"
   ]
  },
  {
   "cell_type": "markdown",
   "metadata": {},
   "source": [
    "The agent solves the task in 315 episodes."
   ]
  },
  {
   "cell_type": "code",
   "execution_count": 16,
   "metadata": {},
   "outputs": [
    {
     "name": "stdout",
     "output_type": "stream",
     "text": [
      "Total score (averaged over agents) this episode: 35.46999920718372\n"
     ]
    }
   ],
   "source": [
    "path = 'checkpoints/DDPGAgent-28.40-500-20190110-223615/'\n",
    "\n",
    "agent.load_weights(path + 'checkpointactor.pth',\n",
    "                   path + 'checkpoint_critic.pth')\n",
    "\n",
    "demo(agent, env)"
   ]
  },
  {
   "cell_type": "code",
   "execution_count": null,
   "metadata": {},
   "outputs": [],
   "source": [
    "env.close()"
   ]
  },
  {
   "cell_type": "markdown",
   "metadata": {},
   "source": [
    "## Future improvements\n",
    "The following future improvements should be implemented:\n",
    "- Test new algorithms such as A2C, A3C, PPO, TRPO etc...\n",
    "- Implement a prioritized replay buffer for the critic\n",
    "- Implement GAE to train the critic\n",
    "- Try to solve the crawler task\n",
    "- Optimize hyperparameters using, for instance, random sampling"
   ]
  }
 ],
 "metadata": {
  "celltoolbar": "Raw Cell Format",
  "kernelspec": {
   "display_name": "Python 3",
   "language": "python",
   "name": "python3"
  },
  "language_info": {
   "codemirror_mode": {
    "name": "ipython",
    "version": 3
   },
   "file_extension": ".py",
   "mimetype": "text/x-python",
   "name": "python",
   "nbconvert_exporter": "python",
   "pygments_lexer": "ipython3",
   "version": "3.6.7"
  }
 },
 "nbformat": 4,
 "nbformat_minor": 1
}
